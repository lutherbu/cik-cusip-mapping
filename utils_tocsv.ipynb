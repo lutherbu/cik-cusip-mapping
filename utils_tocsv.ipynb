{
 "cells": [
  {
   "cell_type": "code",
   "execution_count": 29,
   "id": "81b9ba09-c784-4eab-84b3-5d8a4cdda617",
   "metadata": {},
   "outputs": [],
   "source": [
    "import json\n",
    "import pandas as pd"
   ]
  },
  {
   "cell_type": "code",
   "execution_count": 31,
   "id": "e70a6f68-45fb-4c0c-813c-91f2a9b35d21",
   "metadata": {},
   "outputs": [],
   "source": [
    "with open(\"cik-cusip-maps-2023-prior.json\") as f:\n",
    "    data1 = json.load(f)\n",
    "with open(\"cik-cusip-maps-2024.09.04.json\") as f:\n",
    "    data2 = json.load(f)\n",
    "df1 = pd.DataFrame(data1)\n",
    "df2 = pd.DataFrame(data2)\n",
    "df = pd.concat([df1,df2],ignore_index=True)"
   ]
  },
  {
   "cell_type": "code",
   "execution_count": 33,
   "id": "afab3a89-9e41-4c0f-a5a9-d575678d634f",
   "metadata": {
    "scrolled": true
   },
   "outputs": [],
   "source": [
    "df[(df['cik']!=\"0000000000\")].to_csv(\"cik-cusip.csv\",index=False)"
   ]
  }
 ],
 "metadata": {
  "kernelspec": {
   "display_name": "Python 3 (ipykernel)",
   "language": "python",
   "name": "python3"
  },
  "language_info": {
   "codemirror_mode": {
    "name": "ipython",
    "version": 3
   },
   "file_extension": ".py",
   "mimetype": "text/x-python",
   "name": "python",
   "nbconvert_exporter": "python",
   "pygments_lexer": "ipython3",
   "version": "3.12.6"
  }
 },
 "nbformat": 4,
 "nbformat_minor": 5
}
